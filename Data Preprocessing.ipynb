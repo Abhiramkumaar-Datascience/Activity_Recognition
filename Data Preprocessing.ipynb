{
 "cells": [
  {
   "cell_type": "code",
   "execution_count": 1,
   "id": "61951968",
   "metadata": {},
   "outputs": [],
   "source": [
    "#Import Necessary Libraries\n",
    "\n",
    "import pandas as pd\n",
    "import numpy as np\n",
    "import os\n",
    "import glob\n",
    "from sklearn.preprocessing import StandardScaler\n",
    "from joblib import dump"
   ]
  },
  {
   "cell_type": "code",
   "execution_count": 2,
   "id": "0ae1d86a",
   "metadata": {},
   "outputs": [],
   "source": [
    "#Function to Load and Combine Data\n",
    "\n",
    "def load_and_combine_csv(file_paths):\n",
    "    dataframes = []\n",
    "    col_names = ['sequential_number', 'x_acceleration', 'y_acceleration', 'z_acceleration', 'label']\n",
    "    for file in file_paths:\n",
    "        df = pd.read_csv(file, names=col_names)\n",
    "        df['participant_id'] = os.path.basename(file).split('.')[0]\n",
    "        dataframes.append(df)\n",
    "    combined_data = pd.concat(dataframes, ignore_index=True)\n",
    "    return combined_data"
   ]
  },
  {
   "cell_type": "code",
   "execution_count": 3,
   "id": "edfcf33a",
   "metadata": {},
   "outputs": [],
   "source": [
    "#Load and Combine Data\n",
    "\n",
    "directory_path = r'C:\\Users\\AHAO\\OneDrive - Capco\\Desktop\\Abhi\\Kovai.co\\Ko.co assign\\Activity Recognition'\n",
    "\n",
    "file_paths = glob.glob(directory_path + '/*.csv')\n",
    "combined_data = load_and_combine_csv(file_paths)"
   ]
  },
  {
   "cell_type": "code",
   "execution_count": 4,
   "id": "f8bfae0b",
   "metadata": {},
   "outputs": [],
   "source": [
    "# Normalize or scale data\n",
    "\n",
    "scaler = StandardScaler()\n",
    "combined_data[['x_acceleration', 'y_acceleration', 'z_acceleration']] = scaler.fit_transform(combined_data[['x_acceleration', 'y_acceleration', 'z_acceleration']])"
   ]
  },
  {
   "cell_type": "code",
   "execution_count": 5,
   "id": "5228781f",
   "metadata": {},
   "outputs": [],
   "source": [
    "# Save preprocessed data\n",
    "\n",
    "combined_data.to_csv(directory_path + '/processed_data.csv', index=False)"
   ]
  },
  {
   "cell_type": "code",
   "execution_count": 6,
   "id": "ddde864e",
   "metadata": {},
   "outputs": [
    {
     "data": {
      "text/plain": [
       "['C:\\\\Users\\\\AHAO\\\\OneDrive - Capco\\\\Desktop\\\\Abhi\\\\Kovai.co\\\\Ko.co assign\\\\Activity Recognition/scaler.joblib']"
      ]
     },
     "execution_count": 6,
     "metadata": {},
     "output_type": "execute_result"
    }
   ],
   "source": [
    "# Save the scaler\n",
    "\n",
    "dump(scaler, directory_path + '/scaler.joblib')"
   ]
  }
 ],
 "metadata": {
  "kernelspec": {
   "display_name": "Python 3 (ipykernel)",
   "language": "python",
   "name": "python3"
  },
  "language_info": {
   "codemirror_mode": {
    "name": "ipython",
    "version": 3
   },
   "file_extension": ".py",
   "mimetype": "text/x-python",
   "name": "python",
   "nbconvert_exporter": "python",
   "pygments_lexer": "ipython3",
   "version": "3.11.2"
  }
 },
 "nbformat": 4,
 "nbformat_minor": 5
}
